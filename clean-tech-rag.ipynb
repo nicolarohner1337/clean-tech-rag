{
 "cells": [
  {
   "cell_type": "raw",
   "metadata": {},
   "source": [
    "title: \"{{ cookiecutter.project_name }}\"\n",
    "author: \"X\"\n",
    "date: \"{{ datetime.now().strftime('%Y-%m-%d %H:%M:%S') }}\""
   ]
  },
  {
   "cell_type": "raw",
   "metadata": {},
   "source": [
    "# load pretty jupyter's magics\n",
    "# %load_ext pretty_jupyter"
   ]
  },
  {
   "cell_type": "markdown",
   "metadata": {},
   "source": [
    "# Check if all  Prerequisites are satisfied"
   ]
  },
  {
   "cell_type": "code",
   "execution_count": 1,
   "metadata": {},
   "outputs": [
    {
     "name": "stdout",
     "output_type": "stream",
     "text": [
      "poetry install ran\n"
     ]
    }
   ],
   "source": [
    "# check if .venv is present if not run poetry install\n",
    "import os\n",
    "\n",
    "if not os.path.exists(\".venv\"):\n",
    "    os.system(\"poetry install\")\n",
    "    print(\"poetry install ran\")\n",
    "\n",
    "# now check if .venv is activated\n",
    "if not os.getenv(\"VIRTUAL_ENV\"):\n",
    "    os.system(\"source .venv/bin/activate\")\n",
    "    print(\"venv activated\")"
   ]
  },
  {
   "cell_type": "code",
   "execution_count": 2,
   "metadata": {},
   "outputs": [
    {
     "name": "stdout",
     "output_type": "stream",
     "text": [
      "The .env file does not exist\n"
     ]
    }
   ],
   "source": [
    "import os\n",
    "import pandas as pd\n",
    "\n",
    "# checkk if the .env file exists\n",
    "if not os.path.exists(\".env\"):\n",
    "    print(\"The .env file does not exist\")\n",
    "    exit()\n",
    "else:\n",
    "    from dotenv import load_dotenv\n",
    "\n",
    "    load_dotenv()  # take environment variables from .env.\n",
    "    print(\"Loaded .env file\")"
   ]
  },
  {
   "cell_type": "code",
   "execution_count": 3,
   "metadata": {},
   "outputs": [],
   "source": [
    "import os\n",
    "\n",
    "# check if data folder exists\n",
    "if not os.path.exists(\"./data/\"):\n",
    "    import kaggle\n",
    "\n",
    "    try:\n",
    "        kaggle.api.authenticate()\n",
    "    except:\n",
    "        print(\n",
    "            \"Kaggle API not authenticated. Please add KAGGLE_username and KAGGLE_key to .env file\"\n",
    "        )\n",
    "        exit()\n",
    "        \n",
    "    os.makedirs('./data/', exist_ok=True)\n",
    "    kaggle.api.dataset_download_files(\n",
    "        \"jannalipenkova/cleantech-media-dataset\", path=\"./data/\", unzip=True\n",
    "    )"
   ]
  },
  {
   "cell_type": "markdown",
   "metadata": {},
   "source": [
    "# Load Data"
   ]
  },
  {
   "cell_type": "code",
   "execution_count": 4,
   "metadata": {},
   "outputs": [],
   "source": [
    "# read the data\n",
    "df = pd.read_csv(\"./data/cleantech_media_dataset_v2_2024-02-23.csv\")\n",
    "df_eval = pd.read_csv(\"./data/cleantech_rag_evaluation_data_2024-02-23.csv\")"
   ]
  },
  {
   "cell_type": "code",
   "execution_count": null,
   "metadata": {},
   "outputs": [
    {
     "ename": "",
     "evalue": "",
     "output_type": "error",
     "traceback": [
      "\u001b[1;31mThe Kernel crashed while executing code in the current cell or a previous cell. \n",
      "\u001b[1;31mPlease review the code in the cell(s) to identify a possible cause of the failure. \n",
      "\u001b[1;31mClick <a href='https://aka.ms/vscodeJupyterKernelCrash'>here</a> for more info. \n",
      "\u001b[1;31mView Jupyter <a href='command:jupyter.viewOutput'>log</a> for further details."
     ]
    }
   ],
   "source": [
    "df.head()"
   ]
  },
  {
   "cell_type": "code",
   "execution_count": null,
   "metadata": {},
   "outputs": [],
   "source": [
    "df_eval.head()"
   ]
  }
 ],
 "metadata": {
  "kernelspec": {
   "display_name": ".venv",
   "language": "python",
   "name": "python3"
  },
  "language_info": {
   "codemirror_mode": {
    "name": "ipython",
    "version": 3
   },
   "file_extension": ".py",
   "mimetype": "text/x-python",
   "name": "python",
   "nbconvert_exporter": "python",
   "pygments_lexer": "ipython3",
   "version": "3.11.6"
  }
 },
 "nbformat": 4,
 "nbformat_minor": 2
}
